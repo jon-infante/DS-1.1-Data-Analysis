{
 "cells": [
  {
   "cell_type": "markdown",
   "metadata": {
    "slideshow": {
     "slide_type": "slide"
    }
   },
   "source": [
    "# World Happiness Report of every country"
   ]
  },
  {
   "cell_type": "code",
   "execution_count": 57,
   "metadata": {
    "slideshow": {
     "slide_type": "slide"
    }
   },
   "outputs": [],
   "source": [
    "import numpy as np\n",
    "import pandas as pd\n",
    "import seaborn as sns\n",
    "import matplotlib as plt\n",
    "import matplotlib.pyplot as plt\n",
    "import scipy.signal\n",
    "\n",
    "df = pd.read_csv('2019Happiness.csv')\n",
    "\n",
    "df.columns = ['Rank', 'Country', 'Score', 'GDP', 'SocialSupport', 'HealthyLifeExpectancy', 'Freedom', 'Generosity', 'Corruption']\n"
   ]
  },
  {
   "cell_type": "markdown",
   "metadata": {
    "slideshow": {
     "slide_type": "subslide"
    }
   },
   "source": [
    "## Showing initial data and formulating questions."
   ]
  },
  {
   "cell_type": "code",
   "execution_count": 6,
   "metadata": {
    "slideshow": {
     "slide_type": "subslide"
    }
   },
   "outputs": [
    {
     "data": {
      "text/html": [
       "<div>\n",
       "<style scoped>\n",
       "    .dataframe tbody tr th:only-of-type {\n",
       "        vertical-align: middle;\n",
       "    }\n",
       "\n",
       "    .dataframe tbody tr th {\n",
       "        vertical-align: top;\n",
       "    }\n",
       "\n",
       "    .dataframe thead th {\n",
       "        text-align: right;\n",
       "    }\n",
       "</style>\n",
       "<table border=\"1\" class=\"dataframe\">\n",
       "  <thead>\n",
       "    <tr style=\"text-align: right;\">\n",
       "      <th></th>\n",
       "      <th>Rank</th>\n",
       "      <th>Country</th>\n",
       "      <th>Score</th>\n",
       "      <th>GDP</th>\n",
       "      <th>SocialSupport</th>\n",
       "      <th>HealthyLifeExpectancy</th>\n",
       "      <th>Freedom</th>\n",
       "      <th>Generosity</th>\n",
       "      <th>Corruption</th>\n",
       "    </tr>\n",
       "  </thead>\n",
       "  <tbody>\n",
       "    <tr>\n",
       "      <td>0</td>\n",
       "      <td>1</td>\n",
       "      <td>Finland</td>\n",
       "      <td>7.769</td>\n",
       "      <td>1.340</td>\n",
       "      <td>1.587</td>\n",
       "      <td>0.986</td>\n",
       "      <td>0.596</td>\n",
       "      <td>0.153</td>\n",
       "      <td>0.393</td>\n",
       "    </tr>\n",
       "    <tr>\n",
       "      <td>1</td>\n",
       "      <td>2</td>\n",
       "      <td>Denmark</td>\n",
       "      <td>7.600</td>\n",
       "      <td>1.383</td>\n",
       "      <td>1.573</td>\n",
       "      <td>0.996</td>\n",
       "      <td>0.592</td>\n",
       "      <td>0.252</td>\n",
       "      <td>0.410</td>\n",
       "    </tr>\n",
       "    <tr>\n",
       "      <td>2</td>\n",
       "      <td>3</td>\n",
       "      <td>Norway</td>\n",
       "      <td>7.554</td>\n",
       "      <td>1.488</td>\n",
       "      <td>1.582</td>\n",
       "      <td>1.028</td>\n",
       "      <td>0.603</td>\n",
       "      <td>0.271</td>\n",
       "      <td>0.341</td>\n",
       "    </tr>\n",
       "    <tr>\n",
       "      <td>3</td>\n",
       "      <td>4</td>\n",
       "      <td>Iceland</td>\n",
       "      <td>7.494</td>\n",
       "      <td>1.380</td>\n",
       "      <td>1.624</td>\n",
       "      <td>1.026</td>\n",
       "      <td>0.591</td>\n",
       "      <td>0.354</td>\n",
       "      <td>0.118</td>\n",
       "    </tr>\n",
       "    <tr>\n",
       "      <td>4</td>\n",
       "      <td>5</td>\n",
       "      <td>Netherlands</td>\n",
       "      <td>7.488</td>\n",
       "      <td>1.396</td>\n",
       "      <td>1.522</td>\n",
       "      <td>0.999</td>\n",
       "      <td>0.557</td>\n",
       "      <td>0.322</td>\n",
       "      <td>0.298</td>\n",
       "    </tr>\n",
       "    <tr>\n",
       "      <td>5</td>\n",
       "      <td>6</td>\n",
       "      <td>Switzerland</td>\n",
       "      <td>7.480</td>\n",
       "      <td>1.452</td>\n",
       "      <td>1.526</td>\n",
       "      <td>1.052</td>\n",
       "      <td>0.572</td>\n",
       "      <td>0.263</td>\n",
       "      <td>0.343</td>\n",
       "    </tr>\n",
       "    <tr>\n",
       "      <td>6</td>\n",
       "      <td>7</td>\n",
       "      <td>Sweden</td>\n",
       "      <td>7.343</td>\n",
       "      <td>1.387</td>\n",
       "      <td>1.487</td>\n",
       "      <td>1.009</td>\n",
       "      <td>0.574</td>\n",
       "      <td>0.267</td>\n",
       "      <td>0.373</td>\n",
       "    </tr>\n",
       "    <tr>\n",
       "      <td>7</td>\n",
       "      <td>8</td>\n",
       "      <td>New Zealand</td>\n",
       "      <td>7.307</td>\n",
       "      <td>1.303</td>\n",
       "      <td>1.557</td>\n",
       "      <td>1.026</td>\n",
       "      <td>0.585</td>\n",
       "      <td>0.330</td>\n",
       "      <td>0.380</td>\n",
       "    </tr>\n",
       "    <tr>\n",
       "      <td>8</td>\n",
       "      <td>9</td>\n",
       "      <td>Canada</td>\n",
       "      <td>7.278</td>\n",
       "      <td>1.365</td>\n",
       "      <td>1.505</td>\n",
       "      <td>1.039</td>\n",
       "      <td>0.584</td>\n",
       "      <td>0.285</td>\n",
       "      <td>0.308</td>\n",
       "    </tr>\n",
       "    <tr>\n",
       "      <td>9</td>\n",
       "      <td>10</td>\n",
       "      <td>Austria</td>\n",
       "      <td>7.246</td>\n",
       "      <td>1.376</td>\n",
       "      <td>1.475</td>\n",
       "      <td>1.016</td>\n",
       "      <td>0.532</td>\n",
       "      <td>0.244</td>\n",
       "      <td>0.226</td>\n",
       "    </tr>\n",
       "    <tr>\n",
       "      <td>10</td>\n",
       "      <td>11</td>\n",
       "      <td>Australia</td>\n",
       "      <td>7.228</td>\n",
       "      <td>1.372</td>\n",
       "      <td>1.548</td>\n",
       "      <td>1.036</td>\n",
       "      <td>0.557</td>\n",
       "      <td>0.332</td>\n",
       "      <td>0.290</td>\n",
       "    </tr>\n",
       "    <tr>\n",
       "      <td>11</td>\n",
       "      <td>12</td>\n",
       "      <td>Costa Rica</td>\n",
       "      <td>7.167</td>\n",
       "      <td>1.034</td>\n",
       "      <td>1.441</td>\n",
       "      <td>0.963</td>\n",
       "      <td>0.558</td>\n",
       "      <td>0.144</td>\n",
       "      <td>0.093</td>\n",
       "    </tr>\n",
       "    <tr>\n",
       "      <td>12</td>\n",
       "      <td>13</td>\n",
       "      <td>Israel</td>\n",
       "      <td>7.139</td>\n",
       "      <td>1.276</td>\n",
       "      <td>1.455</td>\n",
       "      <td>1.029</td>\n",
       "      <td>0.371</td>\n",
       "      <td>0.261</td>\n",
       "      <td>0.082</td>\n",
       "    </tr>\n",
       "    <tr>\n",
       "      <td>13</td>\n",
       "      <td>14</td>\n",
       "      <td>Luxembourg</td>\n",
       "      <td>7.090</td>\n",
       "      <td>1.609</td>\n",
       "      <td>1.479</td>\n",
       "      <td>1.012</td>\n",
       "      <td>0.526</td>\n",
       "      <td>0.194</td>\n",
       "      <td>0.316</td>\n",
       "    </tr>\n",
       "    <tr>\n",
       "      <td>14</td>\n",
       "      <td>15</td>\n",
       "      <td>United Kingdom</td>\n",
       "      <td>7.054</td>\n",
       "      <td>1.333</td>\n",
       "      <td>1.538</td>\n",
       "      <td>0.996</td>\n",
       "      <td>0.450</td>\n",
       "      <td>0.348</td>\n",
       "      <td>0.278</td>\n",
       "    </tr>\n",
       "    <tr>\n",
       "      <td>15</td>\n",
       "      <td>16</td>\n",
       "      <td>Ireland</td>\n",
       "      <td>7.021</td>\n",
       "      <td>1.499</td>\n",
       "      <td>1.553</td>\n",
       "      <td>0.999</td>\n",
       "      <td>0.516</td>\n",
       "      <td>0.298</td>\n",
       "      <td>0.310</td>\n",
       "    </tr>\n",
       "    <tr>\n",
       "      <td>16</td>\n",
       "      <td>17</td>\n",
       "      <td>Germany</td>\n",
       "      <td>6.985</td>\n",
       "      <td>1.373</td>\n",
       "      <td>1.454</td>\n",
       "      <td>0.987</td>\n",
       "      <td>0.495</td>\n",
       "      <td>0.261</td>\n",
       "      <td>0.265</td>\n",
       "    </tr>\n",
       "    <tr>\n",
       "      <td>17</td>\n",
       "      <td>18</td>\n",
       "      <td>Belgium</td>\n",
       "      <td>6.923</td>\n",
       "      <td>1.356</td>\n",
       "      <td>1.504</td>\n",
       "      <td>0.986</td>\n",
       "      <td>0.473</td>\n",
       "      <td>0.160</td>\n",
       "      <td>0.210</td>\n",
       "    </tr>\n",
       "    <tr>\n",
       "      <td>18</td>\n",
       "      <td>19</td>\n",
       "      <td>United States</td>\n",
       "      <td>6.892</td>\n",
       "      <td>1.433</td>\n",
       "      <td>1.457</td>\n",
       "      <td>0.874</td>\n",
       "      <td>0.454</td>\n",
       "      <td>0.280</td>\n",
       "      <td>0.128</td>\n",
       "    </tr>\n",
       "    <tr>\n",
       "      <td>19</td>\n",
       "      <td>20</td>\n",
       "      <td>Czech Republic</td>\n",
       "      <td>6.852</td>\n",
       "      <td>1.269</td>\n",
       "      <td>1.487</td>\n",
       "      <td>0.920</td>\n",
       "      <td>0.457</td>\n",
       "      <td>0.046</td>\n",
       "      <td>0.036</td>\n",
       "    </tr>\n",
       "  </tbody>\n",
       "</table>\n",
       "</div>"
      ],
      "text/plain": [
       "    Rank         Country  Score    GDP  SocialSupport  HealthyLifeExpectancy  \\\n",
       "0      1         Finland  7.769  1.340          1.587                  0.986   \n",
       "1      2         Denmark  7.600  1.383          1.573                  0.996   \n",
       "2      3          Norway  7.554  1.488          1.582                  1.028   \n",
       "3      4         Iceland  7.494  1.380          1.624                  1.026   \n",
       "4      5     Netherlands  7.488  1.396          1.522                  0.999   \n",
       "5      6     Switzerland  7.480  1.452          1.526                  1.052   \n",
       "6      7          Sweden  7.343  1.387          1.487                  1.009   \n",
       "7      8     New Zealand  7.307  1.303          1.557                  1.026   \n",
       "8      9          Canada  7.278  1.365          1.505                  1.039   \n",
       "9     10         Austria  7.246  1.376          1.475                  1.016   \n",
       "10    11       Australia  7.228  1.372          1.548                  1.036   \n",
       "11    12      Costa Rica  7.167  1.034          1.441                  0.963   \n",
       "12    13          Israel  7.139  1.276          1.455                  1.029   \n",
       "13    14      Luxembourg  7.090  1.609          1.479                  1.012   \n",
       "14    15  United Kingdom  7.054  1.333          1.538                  0.996   \n",
       "15    16         Ireland  7.021  1.499          1.553                  0.999   \n",
       "16    17         Germany  6.985  1.373          1.454                  0.987   \n",
       "17    18         Belgium  6.923  1.356          1.504                  0.986   \n",
       "18    19   United States  6.892  1.433          1.457                  0.874   \n",
       "19    20  Czech Republic  6.852  1.269          1.487                  0.920   \n",
       "\n",
       "    Freedom  Generosity  Corruption  \n",
       "0     0.596       0.153       0.393  \n",
       "1     0.592       0.252       0.410  \n",
       "2     0.603       0.271       0.341  \n",
       "3     0.591       0.354       0.118  \n",
       "4     0.557       0.322       0.298  \n",
       "5     0.572       0.263       0.343  \n",
       "6     0.574       0.267       0.373  \n",
       "7     0.585       0.330       0.380  \n",
       "8     0.584       0.285       0.308  \n",
       "9     0.532       0.244       0.226  \n",
       "10    0.557       0.332       0.290  \n",
       "11    0.558       0.144       0.093  \n",
       "12    0.371       0.261       0.082  \n",
       "13    0.526       0.194       0.316  \n",
       "14    0.450       0.348       0.278  \n",
       "15    0.516       0.298       0.310  \n",
       "16    0.495       0.261       0.265  \n",
       "17    0.473       0.160       0.210  \n",
       "18    0.454       0.280       0.128  \n",
       "19    0.457       0.046       0.036  "
      ]
     },
     "execution_count": 6,
     "metadata": {},
     "output_type": "execute_result"
    }
   ],
   "source": [
    "df.head(20)"
   ]
  },
  {
   "cell_type": "markdown",
   "metadata": {
    "slideshow": {
     "slide_type": "subslide"
    }
   },
   "source": [
    "## Comparing above countries to the less happy countries."
   ]
  },
  {
   "cell_type": "code",
   "execution_count": 7,
   "metadata": {
    "slideshow": {
     "slide_type": "subslide"
    }
   },
   "outputs": [
    {
     "data": {
      "text/html": [
       "<div>\n",
       "<style scoped>\n",
       "    .dataframe tbody tr th:only-of-type {\n",
       "        vertical-align: middle;\n",
       "    }\n",
       "\n",
       "    .dataframe tbody tr th {\n",
       "        vertical-align: top;\n",
       "    }\n",
       "\n",
       "    .dataframe thead th {\n",
       "        text-align: right;\n",
       "    }\n",
       "</style>\n",
       "<table border=\"1\" class=\"dataframe\">\n",
       "  <thead>\n",
       "    <tr style=\"text-align: right;\">\n",
       "      <th></th>\n",
       "      <th>Rank</th>\n",
       "      <th>Country</th>\n",
       "      <th>Score</th>\n",
       "      <th>GDP</th>\n",
       "      <th>SocialSupport</th>\n",
       "      <th>HealthyLifeExpectancy</th>\n",
       "      <th>Freedom</th>\n",
       "      <th>Generosity</th>\n",
       "      <th>Corruption</th>\n",
       "    </tr>\n",
       "  </thead>\n",
       "  <tbody>\n",
       "    <tr>\n",
       "      <td>146</td>\n",
       "      <td>147</td>\n",
       "      <td>Haiti</td>\n",
       "      <td>3.597</td>\n",
       "      <td>0.323</td>\n",
       "      <td>0.688</td>\n",
       "      <td>0.449</td>\n",
       "      <td>0.026</td>\n",
       "      <td>0.419</td>\n",
       "      <td>0.110</td>\n",
       "    </tr>\n",
       "    <tr>\n",
       "      <td>147</td>\n",
       "      <td>148</td>\n",
       "      <td>Botswana</td>\n",
       "      <td>3.488</td>\n",
       "      <td>1.041</td>\n",
       "      <td>1.145</td>\n",
       "      <td>0.538</td>\n",
       "      <td>0.455</td>\n",
       "      <td>0.025</td>\n",
       "      <td>0.100</td>\n",
       "    </tr>\n",
       "    <tr>\n",
       "      <td>148</td>\n",
       "      <td>149</td>\n",
       "      <td>Syria</td>\n",
       "      <td>3.462</td>\n",
       "      <td>0.619</td>\n",
       "      <td>0.378</td>\n",
       "      <td>0.440</td>\n",
       "      <td>0.013</td>\n",
       "      <td>0.331</td>\n",
       "      <td>0.141</td>\n",
       "    </tr>\n",
       "    <tr>\n",
       "      <td>149</td>\n",
       "      <td>150</td>\n",
       "      <td>Malawi</td>\n",
       "      <td>3.410</td>\n",
       "      <td>0.191</td>\n",
       "      <td>0.560</td>\n",
       "      <td>0.495</td>\n",
       "      <td>0.443</td>\n",
       "      <td>0.218</td>\n",
       "      <td>0.089</td>\n",
       "    </tr>\n",
       "    <tr>\n",
       "      <td>150</td>\n",
       "      <td>151</td>\n",
       "      <td>Yemen</td>\n",
       "      <td>3.380</td>\n",
       "      <td>0.287</td>\n",
       "      <td>1.163</td>\n",
       "      <td>0.463</td>\n",
       "      <td>0.143</td>\n",
       "      <td>0.108</td>\n",
       "      <td>0.077</td>\n",
       "    </tr>\n",
       "    <tr>\n",
       "      <td>151</td>\n",
       "      <td>152</td>\n",
       "      <td>Rwanda</td>\n",
       "      <td>3.334</td>\n",
       "      <td>0.359</td>\n",
       "      <td>0.711</td>\n",
       "      <td>0.614</td>\n",
       "      <td>0.555</td>\n",
       "      <td>0.217</td>\n",
       "      <td>0.411</td>\n",
       "    </tr>\n",
       "    <tr>\n",
       "      <td>152</td>\n",
       "      <td>153</td>\n",
       "      <td>Tanzania</td>\n",
       "      <td>3.231</td>\n",
       "      <td>0.476</td>\n",
       "      <td>0.885</td>\n",
       "      <td>0.499</td>\n",
       "      <td>0.417</td>\n",
       "      <td>0.276</td>\n",
       "      <td>0.147</td>\n",
       "    </tr>\n",
       "    <tr>\n",
       "      <td>153</td>\n",
       "      <td>154</td>\n",
       "      <td>Afghanistan</td>\n",
       "      <td>3.203</td>\n",
       "      <td>0.350</td>\n",
       "      <td>0.517</td>\n",
       "      <td>0.361</td>\n",
       "      <td>0.000</td>\n",
       "      <td>0.158</td>\n",
       "      <td>0.025</td>\n",
       "    </tr>\n",
       "    <tr>\n",
       "      <td>154</td>\n",
       "      <td>155</td>\n",
       "      <td>Central African Republic</td>\n",
       "      <td>3.083</td>\n",
       "      <td>0.026</td>\n",
       "      <td>0.000</td>\n",
       "      <td>0.105</td>\n",
       "      <td>0.225</td>\n",
       "      <td>0.235</td>\n",
       "      <td>0.035</td>\n",
       "    </tr>\n",
       "    <tr>\n",
       "      <td>155</td>\n",
       "      <td>156</td>\n",
       "      <td>South Sudan</td>\n",
       "      <td>2.853</td>\n",
       "      <td>0.306</td>\n",
       "      <td>0.575</td>\n",
       "      <td>0.295</td>\n",
       "      <td>0.010</td>\n",
       "      <td>0.202</td>\n",
       "      <td>0.091</td>\n",
       "    </tr>\n",
       "  </tbody>\n",
       "</table>\n",
       "</div>"
      ],
      "text/plain": [
       "     Rank                   Country  Score    GDP  SocialSupport  \\\n",
       "146   147                     Haiti  3.597  0.323          0.688   \n",
       "147   148                  Botswana  3.488  1.041          1.145   \n",
       "148   149                     Syria  3.462  0.619          0.378   \n",
       "149   150                    Malawi  3.410  0.191          0.560   \n",
       "150   151                     Yemen  3.380  0.287          1.163   \n",
       "151   152                    Rwanda  3.334  0.359          0.711   \n",
       "152   153                  Tanzania  3.231  0.476          0.885   \n",
       "153   154               Afghanistan  3.203  0.350          0.517   \n",
       "154   155  Central African Republic  3.083  0.026          0.000   \n",
       "155   156               South Sudan  2.853  0.306          0.575   \n",
       "\n",
       "     HealthyLifeExpectancy  Freedom  Generosity  Corruption  \n",
       "146                  0.449    0.026       0.419       0.110  \n",
       "147                  0.538    0.455       0.025       0.100  \n",
       "148                  0.440    0.013       0.331       0.141  \n",
       "149                  0.495    0.443       0.218       0.089  \n",
       "150                  0.463    0.143       0.108       0.077  \n",
       "151                  0.614    0.555       0.217       0.411  \n",
       "152                  0.499    0.417       0.276       0.147  \n",
       "153                  0.361    0.000       0.158       0.025  \n",
       "154                  0.105    0.225       0.235       0.035  \n",
       "155                  0.295    0.010       0.202       0.091  "
      ]
     },
     "execution_count": 7,
     "metadata": {},
     "output_type": "execute_result"
    }
   ],
   "source": [
    "df.tail(10)"
   ]
  },
  {
   "cell_type": "markdown",
   "metadata": {
    "slideshow": {
     "slide_type": "slide"
    }
   },
   "source": [
    "# Q1: How does the GDP per capita impact someone's overall happiness?"
   ]
  },
  {
   "cell_type": "code",
   "execution_count": 19,
   "metadata": {
    "slideshow": {
     "slide_type": "-"
    }
   },
   "outputs": [],
   "source": [
    "#Highest GDP score is 1.68, lowest being 0\n",
    "#Defining an average GDP based of a specified range of countries.\n",
    "def get_average(df_min, df_max):\n",
    "    total = 0\n",
    "    for i in range(df_min, df_max):\n",
    "        total += df.iloc[i]['GDP']\n",
    "    return total/(df_max - df_min)\n",
    "\n",
    "top_ten_gdp = get_average(0, 9)\n",
    "bottom_ten_gdp = get_average(len(df)-10, len(df))"
   ]
  },
  {
   "cell_type": "markdown",
   "metadata": {
    "slideshow": {
     "slide_type": "slide"
    }
   },
   "source": [
    "## Let's start by calculating an individual or group of countries' GDP"
   ]
  },
  {
   "cell_type": "code",
   "execution_count": 59,
   "metadata": {
    "slideshow": {
     "slide_type": "subslide"
    }
   },
   "outputs": [
    {
     "name": "stdout",
     "output_type": "stream",
     "text": [
      "Somalia\n"
     ]
    }
   ],
   "source": [
    "#This function specifically finds the country with the lowest GDP\n",
    "def get_country_gdp():\n",
    "    country = ''\n",
    "    curr_gdp = 1\n",
    "    #Determine the range of ranks you want to look into (higher ranks are more happier countries)\n",
    "    for i in range(0, len(df)):\n",
    "        #Determine what country had the lowest GDP\n",
    "        if df.iloc[i]['GDP'] < curr_gdp:\n",
    "            country = df.iloc[i]['Country']\n",
    "            curr_gdp = df.iloc[i]['GDP']\n",
    "            \n",
    "    return country\n",
    "\n",
    "print(get_country_gdp())"
   ]
  },
  {
   "cell_type": "markdown",
   "metadata": {
    "slideshow": {
     "slide_type": "subslide"
    }
   },
   "source": [
    "## GDP Vs. Rank"
   ]
  },
  {
   "cell_type": "code",
   "execution_count": 37,
   "metadata": {
    "slideshow": {
     "slide_type": "subslide"
    }
   },
   "outputs": [
    {
     "data": {
      "image/png": "[encoded data removed]",
      "text/plain": [
       "<Figure size 432x288 with 1 Axes>"
      ]
     },
     "metadata": {
      "needs_background": "light"
     },
     "output_type": "display_data"
    }
   ],
   "source": [
    "rank = df['Rank']\n",
    "gdp = df['GDP']\n",
    "fig, ax = plt.subplots()\n",
    "ax.plot(rank, gdp)\n",
    "\n",
    "ax.set(xlabel='Rank', ylabel='GDP',\n",
    "       title='GDP vs. Rank ')\n",
    "ax.grid()\n",
    "plt.show()"
   ]
  },
  {
   "cell_type": "markdown",
   "metadata": {
    "slideshow": {
     "slide_type": "subslide"
    }
   },
   "source": [
    "# Overall there is a negative correlation between Rank and GDP. The average GDP was 0.905, highest country with 1.68 being Qatar and the lowest at 0.0 being Somalia."
   ]
  },
  {
   "cell_type": "markdown",
   "metadata": {
    "slideshow": {
     "slide_type": "slide"
    }
   },
   "source": [
    "# Q2: Is there a correlation between someone's perceived freedom vs. their feelings on corruption in their country?"
   ]
  },
  {
   "cell_type": "markdown",
   "metadata": {
    "slideshow": {
     "slide_type": "subslide"
    }
   },
   "source": [
    "## We obtain a value from -1 to 1 based on Pearson Corrleation."
   ]
  },
  {
   "cell_type": "code",
   "execution_count": 43,
   "metadata": {
    "slideshow": {
     "slide_type": "subslide"
    }
   },
   "outputs": [
    {
     "name": "stdout",
     "output_type": "stream",
     "text": [
      "The correlation between perceived freedom and corruption is 0.43884330641506714\n"
     ]
    }
   ],
   "source": [
    "#Pearson correlation\n",
    "def corr_between(x,y):\n",
    "    x_mean = np.mean(x)\n",
    "    y_mean = np.mean(y)\n",
    "    num = sum([((i-x_mean)*(j-y_mean)) for i,j in zip(x,y)])\n",
    "    den1 = sum([((i-x_mean)**2) for i in x])\n",
    "    den2 = sum([((j-y_mean)**2) for j in y])\n",
    "    den = np.sqrt(den1) * np.sqrt(den2)\n",
    "    \n",
    "    return num/den\n",
    "\n",
    "freedom = df['Freedom']\n",
    "corruption = df['Corruption']\n",
    "\n",
    "print(f'The correlation between perceived freedom and corruption is {corr_between(freedom, corruption)}')\n"
   ]
  },
  {
   "cell_type": "markdown",
   "metadata": {
    "slideshow": {
     "slide_type": "subslide"
    }
   },
   "source": [
    "# The correlation between perceived freedom and corruption returned 0.439 showing that if you feel less free in your country, you are more likely to think the government is corrupt."
   ]
  },
  {
   "cell_type": "markdown",
   "metadata": {
    "slideshow": {
     "slide_type": "slide"
    }
   },
   "source": [
    "# Q3: Is generosity an indicator of overall happiness?"
   ]
  },
  {
   "cell_type": "code",
   "execution_count": 17,
   "metadata": {
    "slideshow": {
     "slide_type": "subslide"
    }
   },
   "outputs": [
    {
     "data": {
      "image/png": "[encoded data removed]",
      "text/plain": [
       "<Figure size 360x360 with 1 Axes>"
      ]
     },
     "metadata": {
      "needs_background": "light"
     },
     "output_type": "display_data"
    }
   ],
   "source": [
    "sns.lmplot(x=\"Rank\", y=\"Generosity\", data=df);"
   ]
  },
  {
   "cell_type": "markdown",
   "metadata": {
    "slideshow": {
     "slide_type": "subslide"
    }
   },
   "source": [
    "# As you can see there is absolutely no correlation between a country's overall happiness and the generosity of people."
   ]
  },
  {
   "cell_type": "markdown",
   "metadata": {
    "slideshow": {
     "slide_type": "slide"
    }
   },
   "source": [
    "# Q4: How does someone's Life Expectancy compare to their overall amount of Social Support?"
   ]
  },
  {
   "cell_type": "code",
   "execution_count": 32,
   "metadata": {
    "slideshow": {
     "slide_type": "subslide"
    }
   },
   "outputs": [
    {
     "data": {
      "image/png": "[encoded data removed]",
      "text/plain": [
       "<Figure size 432x288 with 1 Axes>"
      ]
     },
     "metadata": {
      "needs_background": "light"
     },
     "output_type": "display_data"
    }
   ],
   "source": [
    "x = df['Rank']\n",
    "y = df['HealthyLifeExpectancy']\n",
    "y2 = df['SocialSupport']\n",
    "#Smoothing Data\n",
    "yhat = scipy.signal.savgol_filter(y, 51, 3) # window size 51, polynomial order 3\n",
    "yhat2 = scipy.signal.savgol_filter(y2, 51, 3)\n",
    "\n",
    "plt.plot(x, yhat, color='purple', label='Healthy Life Expectancy')\n",
    "plt.plot(x, yhat2, color='red', label='Social Support')\n",
    "plt.legend()\n",
    "plt.xlabel('Rank', fontsize=18)\n",
    "plt.ylabel('Score', fontsize=16)\n",
    "plt.show()"
   ]
  },
  {
   "cell_type": "markdown",
   "metadata": {
    "slideshow": {
     "slide_type": "subslide"
    }
   },
   "source": [
    "# Both Life Expectancy and Social Support drop off in the lower countries, especially one's perception of their social support."
   ]
  },
  {
   "cell_type": "markdown",
   "metadata": {
    "slideshow": {
     "slide_type": "slide"
    }
   },
   "source": [
    "# Q5: In the top 20% of the most happiest countries, which ones are from Europe?"
   ]
  },
  {
   "cell_type": "code",
   "execution_count": 33,
   "metadata": {
    "slideshow": {
     "slide_type": "subslide"
    }
   },
   "outputs": [
    {
     "data": {
      "text/html": [
       "<div>\n",
       "<style scoped>\n",
       "    .dataframe tbody tr th:only-of-type {\n",
       "        vertical-align: middle;\n",
       "    }\n",
       "\n",
       "    .dataframe tbody tr th {\n",
       "        vertical-align: top;\n",
       "    }\n",
       "\n",
       "    .dataframe thead th {\n",
       "        text-align: right;\n",
       "    }\n",
       "</style>\n",
       "<table border=\"1\" class=\"dataframe\">\n",
       "  <thead>\n",
       "    <tr style=\"text-align: right;\">\n",
       "      <th></th>\n",
       "      <th>Rank</th>\n",
       "      <th>Country</th>\n",
       "      <th>Score</th>\n",
       "      <th>GDP</th>\n",
       "      <th>SocialSupport</th>\n",
       "      <th>HealthyLifeExpectancy</th>\n",
       "      <th>Freedom</th>\n",
       "      <th>Generosity</th>\n",
       "      <th>Corruption</th>\n",
       "    </tr>\n",
       "  </thead>\n",
       "  <tbody>\n",
       "    <tr>\n",
       "      <td>0</td>\n",
       "      <td>1</td>\n",
       "      <td>Finland</td>\n",
       "      <td>7.769</td>\n",
       "      <td>1.340</td>\n",
       "      <td>1.587</td>\n",
       "      <td>0.986</td>\n",
       "      <td>0.596</td>\n",
       "      <td>0.153</td>\n",
       "      <td>0.393</td>\n",
       "    </tr>\n",
       "    <tr>\n",
       "      <td>1</td>\n",
       "      <td>2</td>\n",
       "      <td>Denmark</td>\n",
       "      <td>7.600</td>\n",
       "      <td>1.383</td>\n",
       "      <td>1.573</td>\n",
       "      <td>0.996</td>\n",
       "      <td>0.592</td>\n",
       "      <td>0.252</td>\n",
       "      <td>0.410</td>\n",
       "    </tr>\n",
       "    <tr>\n",
       "      <td>2</td>\n",
       "      <td>3</td>\n",
       "      <td>Norway</td>\n",
       "      <td>7.554</td>\n",
       "      <td>1.488</td>\n",
       "      <td>1.582</td>\n",
       "      <td>1.028</td>\n",
       "      <td>0.603</td>\n",
       "      <td>0.271</td>\n",
       "      <td>0.341</td>\n",
       "    </tr>\n",
       "    <tr>\n",
       "      <td>3</td>\n",
       "      <td>4</td>\n",
       "      <td>Iceland</td>\n",
       "      <td>7.494</td>\n",
       "      <td>1.380</td>\n",
       "      <td>1.624</td>\n",
       "      <td>1.026</td>\n",
       "      <td>0.591</td>\n",
       "      <td>0.354</td>\n",
       "      <td>0.118</td>\n",
       "    </tr>\n",
       "    <tr>\n",
       "      <td>4</td>\n",
       "      <td>5</td>\n",
       "      <td>Netherlands</td>\n",
       "      <td>7.488</td>\n",
       "      <td>1.396</td>\n",
       "      <td>1.522</td>\n",
       "      <td>0.999</td>\n",
       "      <td>0.557</td>\n",
       "      <td>0.322</td>\n",
       "      <td>0.298</td>\n",
       "    </tr>\n",
       "    <tr>\n",
       "      <td>5</td>\n",
       "      <td>6</td>\n",
       "      <td>Switzerland</td>\n",
       "      <td>7.480</td>\n",
       "      <td>1.452</td>\n",
       "      <td>1.526</td>\n",
       "      <td>1.052</td>\n",
       "      <td>0.572</td>\n",
       "      <td>0.263</td>\n",
       "      <td>0.343</td>\n",
       "    </tr>\n",
       "    <tr>\n",
       "      <td>6</td>\n",
       "      <td>7</td>\n",
       "      <td>Sweden</td>\n",
       "      <td>7.343</td>\n",
       "      <td>1.387</td>\n",
       "      <td>1.487</td>\n",
       "      <td>1.009</td>\n",
       "      <td>0.574</td>\n",
       "      <td>0.267</td>\n",
       "      <td>0.373</td>\n",
       "    </tr>\n",
       "    <tr>\n",
       "      <td>7</td>\n",
       "      <td>8</td>\n",
       "      <td>New Zealand</td>\n",
       "      <td>7.307</td>\n",
       "      <td>1.303</td>\n",
       "      <td>1.557</td>\n",
       "      <td>1.026</td>\n",
       "      <td>0.585</td>\n",
       "      <td>0.330</td>\n",
       "      <td>0.380</td>\n",
       "    </tr>\n",
       "    <tr>\n",
       "      <td>8</td>\n",
       "      <td>9</td>\n",
       "      <td>Canada</td>\n",
       "      <td>7.278</td>\n",
       "      <td>1.365</td>\n",
       "      <td>1.505</td>\n",
       "      <td>1.039</td>\n",
       "      <td>0.584</td>\n",
       "      <td>0.285</td>\n",
       "      <td>0.308</td>\n",
       "    </tr>\n",
       "    <tr>\n",
       "      <td>9</td>\n",
       "      <td>10</td>\n",
       "      <td>Austria</td>\n",
       "      <td>7.246</td>\n",
       "      <td>1.376</td>\n",
       "      <td>1.475</td>\n",
       "      <td>1.016</td>\n",
       "      <td>0.532</td>\n",
       "      <td>0.244</td>\n",
       "      <td>0.226</td>\n",
       "    </tr>\n",
       "    <tr>\n",
       "      <td>10</td>\n",
       "      <td>11</td>\n",
       "      <td>Australia</td>\n",
       "      <td>7.228</td>\n",
       "      <td>1.372</td>\n",
       "      <td>1.548</td>\n",
       "      <td>1.036</td>\n",
       "      <td>0.557</td>\n",
       "      <td>0.332</td>\n",
       "      <td>0.290</td>\n",
       "    </tr>\n",
       "    <tr>\n",
       "      <td>11</td>\n",
       "      <td>12</td>\n",
       "      <td>Costa Rica</td>\n",
       "      <td>7.167</td>\n",
       "      <td>1.034</td>\n",
       "      <td>1.441</td>\n",
       "      <td>0.963</td>\n",
       "      <td>0.558</td>\n",
       "      <td>0.144</td>\n",
       "      <td>0.093</td>\n",
       "    </tr>\n",
       "    <tr>\n",
       "      <td>12</td>\n",
       "      <td>13</td>\n",
       "      <td>Israel</td>\n",
       "      <td>7.139</td>\n",
       "      <td>1.276</td>\n",
       "      <td>1.455</td>\n",
       "      <td>1.029</td>\n",
       "      <td>0.371</td>\n",
       "      <td>0.261</td>\n",
       "      <td>0.082</td>\n",
       "    </tr>\n",
       "    <tr>\n",
       "      <td>13</td>\n",
       "      <td>14</td>\n",
       "      <td>Luxembourg</td>\n",
       "      <td>7.090</td>\n",
       "      <td>1.609</td>\n",
       "      <td>1.479</td>\n",
       "      <td>1.012</td>\n",
       "      <td>0.526</td>\n",
       "      <td>0.194</td>\n",
       "      <td>0.316</td>\n",
       "    </tr>\n",
       "    <tr>\n",
       "      <td>14</td>\n",
       "      <td>15</td>\n",
       "      <td>United Kingdom</td>\n",
       "      <td>7.054</td>\n",
       "      <td>1.333</td>\n",
       "      <td>1.538</td>\n",
       "      <td>0.996</td>\n",
       "      <td>0.450</td>\n",
       "      <td>0.348</td>\n",
       "      <td>0.278</td>\n",
       "    </tr>\n",
       "    <tr>\n",
       "      <td>15</td>\n",
       "      <td>16</td>\n",
       "      <td>Ireland</td>\n",
       "      <td>7.021</td>\n",
       "      <td>1.499</td>\n",
       "      <td>1.553</td>\n",
       "      <td>0.999</td>\n",
       "      <td>0.516</td>\n",
       "      <td>0.298</td>\n",
       "      <td>0.310</td>\n",
       "    </tr>\n",
       "    <tr>\n",
       "      <td>16</td>\n",
       "      <td>17</td>\n",
       "      <td>Germany</td>\n",
       "      <td>6.985</td>\n",
       "      <td>1.373</td>\n",
       "      <td>1.454</td>\n",
       "      <td>0.987</td>\n",
       "      <td>0.495</td>\n",
       "      <td>0.261</td>\n",
       "      <td>0.265</td>\n",
       "    </tr>\n",
       "    <tr>\n",
       "      <td>17</td>\n",
       "      <td>18</td>\n",
       "      <td>Belgium</td>\n",
       "      <td>6.923</td>\n",
       "      <td>1.356</td>\n",
       "      <td>1.504</td>\n",
       "      <td>0.986</td>\n",
       "      <td>0.473</td>\n",
       "      <td>0.160</td>\n",
       "      <td>0.210</td>\n",
       "    </tr>\n",
       "    <tr>\n",
       "      <td>18</td>\n",
       "      <td>19</td>\n",
       "      <td>United States</td>\n",
       "      <td>6.892</td>\n",
       "      <td>1.433</td>\n",
       "      <td>1.457</td>\n",
       "      <td>0.874</td>\n",
       "      <td>0.454</td>\n",
       "      <td>0.280</td>\n",
       "      <td>0.128</td>\n",
       "    </tr>\n",
       "    <tr>\n",
       "      <td>19</td>\n",
       "      <td>20</td>\n",
       "      <td>Czech Republic</td>\n",
       "      <td>6.852</td>\n",
       "      <td>1.269</td>\n",
       "      <td>1.487</td>\n",
       "      <td>0.920</td>\n",
       "      <td>0.457</td>\n",
       "      <td>0.046</td>\n",
       "      <td>0.036</td>\n",
       "    </tr>\n",
       "    <tr>\n",
       "      <td>20</td>\n",
       "      <td>21</td>\n",
       "      <td>United Arab Emirates</td>\n",
       "      <td>6.825</td>\n",
       "      <td>1.503</td>\n",
       "      <td>1.310</td>\n",
       "      <td>0.825</td>\n",
       "      <td>0.598</td>\n",
       "      <td>0.262</td>\n",
       "      <td>0.182</td>\n",
       "    </tr>\n",
       "    <tr>\n",
       "      <td>21</td>\n",
       "      <td>22</td>\n",
       "      <td>Malta</td>\n",
       "      <td>6.726</td>\n",
       "      <td>1.300</td>\n",
       "      <td>1.520</td>\n",
       "      <td>0.999</td>\n",
       "      <td>0.564</td>\n",
       "      <td>0.375</td>\n",
       "      <td>0.151</td>\n",
       "    </tr>\n",
       "    <tr>\n",
       "      <td>22</td>\n",
       "      <td>23</td>\n",
       "      <td>Mexico</td>\n",
       "      <td>6.595</td>\n",
       "      <td>1.070</td>\n",
       "      <td>1.323</td>\n",
       "      <td>0.861</td>\n",
       "      <td>0.433</td>\n",
       "      <td>0.074</td>\n",
       "      <td>0.073</td>\n",
       "    </tr>\n",
       "    <tr>\n",
       "      <td>23</td>\n",
       "      <td>24</td>\n",
       "      <td>France</td>\n",
       "      <td>6.592</td>\n",
       "      <td>1.324</td>\n",
       "      <td>1.472</td>\n",
       "      <td>1.045</td>\n",
       "      <td>0.436</td>\n",
       "      <td>0.111</td>\n",
       "      <td>0.183</td>\n",
       "    </tr>\n",
       "    <tr>\n",
       "      <td>24</td>\n",
       "      <td>25</td>\n",
       "      <td>Taiwan</td>\n",
       "      <td>6.446</td>\n",
       "      <td>1.368</td>\n",
       "      <td>1.430</td>\n",
       "      <td>0.914</td>\n",
       "      <td>0.351</td>\n",
       "      <td>0.242</td>\n",
       "      <td>0.097</td>\n",
       "    </tr>\n",
       "    <tr>\n",
       "      <td>25</td>\n",
       "      <td>26</td>\n",
       "      <td>Chile</td>\n",
       "      <td>6.444</td>\n",
       "      <td>1.159</td>\n",
       "      <td>1.369</td>\n",
       "      <td>0.920</td>\n",
       "      <td>0.357</td>\n",
       "      <td>0.187</td>\n",
       "      <td>0.056</td>\n",
       "    </tr>\n",
       "    <tr>\n",
       "      <td>26</td>\n",
       "      <td>27</td>\n",
       "      <td>Guatemala</td>\n",
       "      <td>6.436</td>\n",
       "      <td>0.800</td>\n",
       "      <td>1.269</td>\n",
       "      <td>0.746</td>\n",
       "      <td>0.535</td>\n",
       "      <td>0.175</td>\n",
       "      <td>0.078</td>\n",
       "    </tr>\n",
       "    <tr>\n",
       "      <td>27</td>\n",
       "      <td>28</td>\n",
       "      <td>Saudi Arabia</td>\n",
       "      <td>6.375</td>\n",
       "      <td>1.403</td>\n",
       "      <td>1.357</td>\n",
       "      <td>0.795</td>\n",
       "      <td>0.439</td>\n",
       "      <td>0.080</td>\n",
       "      <td>0.132</td>\n",
       "    </tr>\n",
       "    <tr>\n",
       "      <td>28</td>\n",
       "      <td>29</td>\n",
       "      <td>Qatar</td>\n",
       "      <td>6.374</td>\n",
       "      <td>1.684</td>\n",
       "      <td>1.313</td>\n",
       "      <td>0.871</td>\n",
       "      <td>0.555</td>\n",
       "      <td>0.220</td>\n",
       "      <td>0.167</td>\n",
       "    </tr>\n",
       "    <tr>\n",
       "      <td>29</td>\n",
       "      <td>30</td>\n",
       "      <td>Spain</td>\n",
       "      <td>6.354</td>\n",
       "      <td>1.286</td>\n",
       "      <td>1.484</td>\n",
       "      <td>1.062</td>\n",
       "      <td>0.362</td>\n",
       "      <td>0.153</td>\n",
       "      <td>0.079</td>\n",
       "    </tr>\n",
       "  </tbody>\n",
       "</table>\n",
       "</div>"
      ],
      "text/plain": [
       "    Rank               Country  Score    GDP  SocialSupport  \\\n",
       "0      1               Finland  7.769  1.340          1.587   \n",
       "1      2               Denmark  7.600  1.383          1.573   \n",
       "2      3                Norway  7.554  1.488          1.582   \n",
       "3      4               Iceland  7.494  1.380          1.624   \n",
       "4      5           Netherlands  7.488  1.396          1.522   \n",
       "5      6           Switzerland  7.480  1.452          1.526   \n",
       "6      7                Sweden  7.343  1.387          1.487   \n",
       "7      8           New Zealand  7.307  1.303          1.557   \n",
       "8      9                Canada  7.278  1.365          1.505   \n",
       "9     10               Austria  7.246  1.376          1.475   \n",
       "10    11             Australia  7.228  1.372          1.548   \n",
       "11    12            Costa Rica  7.167  1.034          1.441   \n",
       "12    13                Israel  7.139  1.276          1.455   \n",
       "13    14            Luxembourg  7.090  1.609          1.479   \n",
       "14    15        United Kingdom  7.054  1.333          1.538   \n",
       "15    16               Ireland  7.021  1.499          1.553   \n",
       "16    17               Germany  6.985  1.373          1.454   \n",
       "17    18               Belgium  6.923  1.356          1.504   \n",
       "18    19         United States  6.892  1.433          1.457   \n",
       "19    20        Czech Republic  6.852  1.269          1.487   \n",
       "20    21  United Arab Emirates  6.825  1.503          1.310   \n",
       "21    22                 Malta  6.726  1.300          1.520   \n",
       "22    23                Mexico  6.595  1.070          1.323   \n",
       "23    24                France  6.592  1.324          1.472   \n",
       "24    25                Taiwan  6.446  1.368          1.430   \n",
       "25    26                 Chile  6.444  1.159          1.369   \n",
       "26    27             Guatemala  6.436  0.800          1.269   \n",
       "27    28          Saudi Arabia  6.375  1.403          1.357   \n",
       "28    29                 Qatar  6.374  1.684          1.313   \n",
       "29    30                 Spain  6.354  1.286          1.484   \n",
       "\n",
       "    HealthyLifeExpectancy  Freedom  Generosity  Corruption  \n",
       "0                   0.986    0.596       0.153       0.393  \n",
       "1                   0.996    0.592       0.252       0.410  \n",
       "2                   1.028    0.603       0.271       0.341  \n",
       "3                   1.026    0.591       0.354       0.118  \n",
       "4                   0.999    0.557       0.322       0.298  \n",
       "5                   1.052    0.572       0.263       0.343  \n",
       "6                   1.009    0.574       0.267       0.373  \n",
       "7                   1.026    0.585       0.330       0.380  \n",
       "8                   1.039    0.584       0.285       0.308  \n",
       "9                   1.016    0.532       0.244       0.226  \n",
       "10                  1.036    0.557       0.332       0.290  \n",
       "11                  0.963    0.558       0.144       0.093  \n",
       "12                  1.029    0.371       0.261       0.082  \n",
       "13                  1.012    0.526       0.194       0.316  \n",
       "14                  0.996    0.450       0.348       0.278  \n",
       "15                  0.999    0.516       0.298       0.310  \n",
       "16                  0.987    0.495       0.261       0.265  \n",
       "17                  0.986    0.473       0.160       0.210  \n",
       "18                  0.874    0.454       0.280       0.128  \n",
       "19                  0.920    0.457       0.046       0.036  \n",
       "20                  0.825    0.598       0.262       0.182  \n",
       "21                  0.999    0.564       0.375       0.151  \n",
       "22                  0.861    0.433       0.074       0.073  \n",
       "23                  1.045    0.436       0.111       0.183  \n",
       "24                  0.914    0.351       0.242       0.097  \n",
       "25                  0.920    0.357       0.187       0.056  \n",
       "26                  0.746    0.535       0.175       0.078  \n",
       "27                  0.795    0.439       0.080       0.132  \n",
       "28                  0.871    0.555       0.220       0.167  \n",
       "29                  1.062    0.362       0.153       0.079  "
      ]
     },
     "execution_count": 33,
     "metadata": {},
     "output_type": "execute_result"
    }
   ],
   "source": [
    "df.head(30)"
   ]
  },
  {
   "cell_type": "markdown",
   "metadata": {
    "slideshow": {
     "slide_type": "subslide"
    }
   },
   "source": [
    "## We first need to obtain a list of all the European Countries"
   ]
  },
  {
   "cell_type": "code",
   "execution_count": 48,
   "metadata": {
    "slideshow": {
     "slide_type": "subslide"
    }
   },
   "outputs": [],
   "source": [
    "eu_countries = [\"Albania\", \"Andorra\", \"Armenia\", \"Austria\", \"Azerbaijan\", \"Belarus\", \"Belgium\",\"Bosnia and Herzegovina\",\n",
    "                \"Bulgaria\", \"Croatia\", \"Cyprus\",\"Czech Republic\", \"Denmark\", \"Estonia\" , \"Finland\", \"France\", \"Georgia\", \n",
    "                \"Germany\", \"Greece\" ,\"Hungary\", \"Iceland\", \"Ireland\", \"Italy\", \"Kosovo\" ,\"Latvia\", \"Liechtenstein\", \n",
    "                \"Lithuania\", \"Luxembourg\", \"Macedonia\", \"Malta\", \"Moldova\", \"Monaco\", \"Montenegro\", \"Netherlands\", \n",
    "                \"Norway\", \"Poland\", \"Portugal\", \"Romania\", \"Russia\", \"San Marino\", \"Serbia\", \"Slovakia\", \"Slovenia\",\n",
    "                \"Spain\", \"Sweden\", \"Switzerland\", \"Turkey\", \"Ukraine\", \"Vatican City\"]\n",
    "    \n",
    "def get_european(max):\n",
    "    europe = []\n",
    "    #20% equivalates to 30 countries\n",
    "    for i in range(0, max):\n",
    "        #Determine if the country is from europe\n",
    "        if df.iloc[i]['Country'] in eu_countries:\n",
    "            europe.append(df.iloc[i]['Country'])\n",
    "            \n",
    "    return europe"
   ]
  },
  {
   "cell_type": "code",
   "execution_count": 53,
   "metadata": {
    "slideshow": {
     "slide_type": "subslide"
    }
   },
   "outputs": [
    {
     "name": "stdout",
     "output_type": "stream",
     "text": [
      "['Finland', 'Denmark', 'Norway', 'Iceland', 'Netherlands', 'Switzerland', 'Sweden', 'Austria', 'Luxembourg', 'Ireland', 'Germany', 'Belgium', 'Czech Republic', 'Malta', 'France']\n",
      "15\n"
     ]
    }
   ],
   "source": [
    "print(get_european(29))\n",
    "print(len(get_european(29)))"
   ]
  },
  {
   "cell_type": "code",
   "execution_count": 50,
   "metadata": {
    "slideshow": {
     "slide_type": "subslide"
    }
   },
   "outputs": [
    {
     "data": {
      "image/png": "[encoded data removed]",
      "text/plain": [
       "<Figure size 432x288 with 1 Axes>"
      ]
     },
     "metadata": {},
     "output_type": "display_data"
    }
   ],
   "source": [
    "labels = ['Europe', 'Not Europe']\n",
    "sizes = [len(get_european(29)), (30 - len(get_european(29)))]\n",
    "explode = (0.15, 0)  # explodes out the first pie piece\n",
    "\n",
    "fig1, ax1 = plt.subplots()\n",
    "ax1.pie(sizes, explode=explode, labels=labels, autopct='%1.1f%%',\n",
    "        shadow=True, startangle=85)\n",
    "ax1.axis('equal')  # Equal aspect ratio ensures that pie is drawn as a circle.\n",
    "\n",
    "plt.show()"
   ]
  },
  {
   "cell_type": "markdown",
   "metadata": {
    "slideshow": {
     "slide_type": "subslide"
    }
   },
   "source": [
    "# We see that a 50% ratio of Europe to Non-European countries in the top 20%! Let's see what the top 10% looks like."
   ]
  },
  {
   "cell_type": "code",
   "execution_count": 55,
   "metadata": {
    "slideshow": {
     "slide_type": "subslide"
    }
   },
   "outputs": [
    {
     "data": {
      "image/png": "[encoded data removed]",
      "text/plain": [
       "<Figure size 432x288 with 1 Axes>"
      ]
     },
     "metadata": {},
     "output_type": "display_data"
    }
   ],
   "source": [
    "labels = ['Europe', 'Not Europe']\n",
    "sizes = [len(get_european(14)), (15 - len(get_european(14)))]\n",
    "explode = (0.15, 0)  # explodes out the first pie piece\n",
    "\n",
    "fig1, ax1 = plt.subplots()\n",
    "ax1.pie(sizes, explode=explode, labels=labels, autopct='%1.1f%%',\n",
    "        shadow=True, startangle=85)\n",
    "ax1.axis('equal')  # Equal aspect ratio ensures that pie is drawn as a circle.\n",
    "\n",
    "plt.show()"
   ]
  },
  {
   "cell_type": "markdown",
   "metadata": {
    "slideshow": {
     "slide_type": "subslide"
    }
   },
   "source": [
    "## It increased to 60% totalling 9/15 of the top happiest countries."
   ]
  },
  {
   "cell_type": "markdown",
   "metadata": {
    "slideshow": {
     "slide_type": "slide"
    }
   },
   "source": [
    "# Summary:\n",
    "## Q1: Overall there is a negative correlation between Rank and GDP. The average GDP was 0.905, highest country with 1.68 being Qatar and the lowest at 0.0 being Somalia.\n",
    "## Q2: The correlation between perceived freedom and corruption returned 0.439 showing that if you feel less free in your country, you are more likely to think the government is corrupt.\n",
    "## Q3: There is absolutely no correlation between a country's overall happiness and the generosity of people.\n",
    "## Q4: Both Life Expectancy and Social Support drop off in the lower countries, especially someone's perception of their social support.\n",
    "## Q5: We see that a 50% ratio of Europe to Non-European countries in the top 20%! \n"
   ]
  },
  {
   "cell_type": "markdown",
   "metadata": {
    "slideshow": {
     "slide_type": "subslide"
    }
   },
   "source": [
    "# Overall this dataset provided a good understanding of what factors in to someone's happiness in their country. This dataset was also not the most clear as to what the numbers mean, and tended to be on an abritrary scale making it difficult to do other calculations with the data."
   ]
  },
  {
   "cell_type": "code",
   "execution_count": null,
   "metadata": {},
   "outputs": [],
   "source": []
  }
 ],
 "metadata": {
  "celltoolbar": "Slideshow",
  "kernelspec": {
   "display_name": "Python 3",
   "language": "python",
   "name": "python3"
  },
  "language_info": {
   "codemirror_mode": {
    "name": "ipython",
    "version": 3
   },
   "file_extension": ".py",
   "mimetype": "text/x-python",
   "name": "python",
   "nbconvert_exporter": "python",
   "pygments_lexer": "ipython3",
   "version": "3.7.4"
  }
 },
 "nbformat": 4,
 "nbformat_minor": 2
}

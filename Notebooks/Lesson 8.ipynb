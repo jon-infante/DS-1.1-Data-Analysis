{
 "cells": [
  {
   "cell_type": "code",
   "execution_count": 40,
   "metadata": {},
   "outputs": [],
   "source": [
    "import numpy as np\n",
    "from scipy.stats import norm\n",
    "from scipy import stats\n",
    "def accept_reject_null(mu, sigma, sample_mean, num_samples, significant_level):\n",
    "    z_score = (sample_mean - mu)/(sigma/np.sqrt(num_samples))\n",
    "    p_value = 2*norm.cdf(z_score)\n",
    "    \n",
    "    if p_value <= significant_level:\n",
    "        print('Reject Hypothesis')\n",
    "    else:\n",
    "        print('Accept Hypothesis')\n"
   ]
  },
  {
   "cell_type": "code",
   "execution_count": 36,
   "metadata": {},
   "outputs": [
    {
     "name": "stdout",
     "output_type": "stream",
     "text": [
      "Reject Hypothesis\n"
     ]
    }
   ],
   "source": [
    "accept_reject_null(1.2, 0.5, 1.05, 100, 0.05)"
   ]
  },
  {
   "cell_type": "code",
   "execution_count": 44,
   "metadata": {},
   "outputs": [],
   "source": [
    "x = [177.3, 182.7, 169.6, 176.3, 180.3, 179.4, 178.5, 177.2, 181.8, 176.5]\n",
    "\n",
    "def accept_reject_null_t(mu, significant_level, sample_list):\n",
    "    \n",
    "    S = np.std(sample_list, ddof=1)\n",
    "    sample_mean = np.array(sample_list).mean()\n",
    "    N = len(sample_list)\n",
    "    \n",
    "    t_score = (sample_mean - mu)/(S/np.sqrt(N))\n",
    "    t_score, p = stats.ttest_1samp(sample_list, mu)\n",
    "    \n",
    "    print(p)\n",
    "    "
   ]
  },
  {
   "cell_type": "code",
   "execution_count": 45,
   "metadata": {},
   "outputs": [
    {
     "name": "stdout",
     "output_type": "stream",
     "text": [
      "0.04734137339747034\n"
     ]
    }
   ],
   "source": [
    "accept_reject_null_t(175.3, 0.05, x)"
   ]
  },
  {
   "cell_type": "code",
   "execution_count": 46,
   "metadata": {},
   "outputs": [],
   "source": [
    "def z_t_null_hypothesis(data_sample, mu, sigma, significant_level):\n",
    "    #If sigma exists, calculate using the z test\n",
    "    if sigma:\n",
    "        z_score = (np.mean(data_sample)-mu)/(sigma/np.sqrt(len(data_sample)))\n",
    "        p = scipy.stats.norm.sf(abs(z_score))*2\n",
    "    #If length of the data is greater than 30, calculate using the z test\n",
    "    elif len(data_sample) > 30:\n",
    "        z_score = (np.mean(data_sample)-mu)/(np.std(data_sample)/np.sqrt(len(data_sample)))\n",
    "        p = scipy.stats.norm.sf(abs(z_score))*2\n",
    "    else:\n",
    "        t, p = stats.ttest_1samp(data_sample, mu)\n",
    "\n",
    "    if p < significant_level:\n",
    "        print('reject null hypothesis')\n",
    "\n",
    "    else:\n",
    "        print('accept null hypothesis')"
   ]
  },
  {
   "cell_type": "code",
   "execution_count": null,
   "metadata": {},
   "outputs": [],
   "source": []
  }
 ],
 "metadata": {
  "kernelspec": {
   "display_name": "Python 3",
   "language": "python",
   "name": "python3"
  },
  "language_info": {
   "codemirror_mode": {
    "name": "ipython",
    "version": 3
   },
   "file_extension": ".py",
   "mimetype": "text/x-python",
   "name": "python",
   "nbconvert_exporter": "python",
   "pygments_lexer": "ipython3",
   "version": "3.7.4"
  }
 },
 "nbformat": 4,
 "nbformat_minor": 2
}

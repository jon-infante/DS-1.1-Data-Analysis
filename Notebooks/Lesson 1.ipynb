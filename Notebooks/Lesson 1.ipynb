{
 "cells": [
  {
   "cell_type": "code",
   "execution_count": 102,
   "metadata": {},
   "outputs": [],
   "source": [
    "import csv\n",
    "\n",
    "with open('titanic.csv') as csv_file:\n",
    "    csv_reader = csv.reader(csv_file, delimiter=',')\n",
    "    gender = []\n",
    "    survived = []\n",
    "    age = []\n",
    "    for row in csv_reader:\n",
    "        gender.append(row[4])\n",
    "        survived.append(row[1])\n",
    "        age.append(row[5])\n",
    "        \n",
    "    gender = gender[1:]\n",
    "    survived = survived[1:]\n",
    "    \n",
    "    total = len(gender)\n",
    "    \n",
    "    female_index = [i for i, j in enumerate(gender) if j == 'female']\n",
    "    female_survived = [survived[i] for i in female_index]\n",
    "    num_female_survived = len([i for i, j in enumerate(female_survived) if j == '1'])\n",
    "    \n",
    "    male_index = [i for i, j in enumerate(gender) if j == 'male']\n",
    "    male_survived = [survived[i] for i in male_index]\n",
    "    num_male_survived = len([i for i, j in enumerate(male_survived) if j == '1'])\n",
    "    \n",
    "    \n",
    "    female_dead = len(female_index) - num_female_survived\n",
    "    male_dead = len(male_index) - num_male_survived\n",
    "    \n",
    "    people = [[num_female_survived, female_dead], [num_male_survived, male_dead]]\n",
    "    \n",
    "    perc_people = [[num_female_survived/len(female_index), female_dead/len(female_index)], [num_male_survived/len(male_index), male_dead/len(male_index)]]\n",
    "        \n",
    "\n",
    "        "
   ]
  },
  {
   "cell_type": "code",
   "execution_count": 103,
   "metadata": {},
   "outputs": [
    {
     "name": "stdout",
     "output_type": "stream",
     "text": [
      "[[233, 81], [109, 468]]\n",
      "[[0.7420382165605095, 0.25796178343949044], [0.18890814558058924, 0.8110918544194108]]\n"
     ]
    }
   ],
   "source": [
    "print(people)\n",
    "print(perc_people)\n"
   ]
  },
  {
   "cell_type": "code",
   "execution_count": 1,
   "metadata": {},
   "outputs": [],
   "source": []
  },
  {
   "cell_type": "code",
   "execution_count": null,
   "metadata": {},
   "outputs": [],
   "source": []
  }
 ],
 "metadata": {
  "kernelspec": {
   "display_name": "Python 3",
   "language": "python",
   "name": "python3"
  },
  "language_info": {
   "codemirror_mode": {
    "name": "ipython",
    "version": 3
   },
   "file_extension": ".py",
   "mimetype": "text/x-python",
   "name": "python",
   "nbconvert_exporter": "python",
   "pygments_lexer": "ipython3",
   "version": "3.7.4"
  }
 },
 "nbformat": 4,
 "nbformat_minor": 2
}
